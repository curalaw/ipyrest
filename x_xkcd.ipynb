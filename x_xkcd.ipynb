{
 "cells": [
  {
   "cell_type": "markdown",
   "metadata": {},
   "source": [
    "# Ipyrest, XKCD Examples"
   ]
  },
  {
   "cell_type": "code",
   "execution_count": 1,
   "metadata": {},
   "outputs": [
    {
     "data": {
      "application/vnd.jupyter.widget-view+json": {
       "model_id": "9d1d4af43a5a4a62a19ebdfd9409718b",
       "version_major": 2,
       "version_minor": 0
      },
      "text/plain": [
       "VBox(children=(HBox(children=(Dropdown(layout=Layout(width='100%px'), options=('GET', 'POST', 'PUT', 'PATCH', …"
      ]
     },
     "metadata": {},
     "output_type": "display_data"
    }
   ],
   "source": [
    "from ipyrest import Api\n",
    "\n",
    "url = 'https://xkcd.com/552/info.0.json'\n",
    "Api(url).ui"
   ]
  },
  {
   "cell_type": "code",
   "execution_count": 2,
   "metadata": {},
   "outputs": [
    {
     "data": {
      "application/vnd.jupyter.widget-view+json": {
       "model_id": "d3c06b760fef4421b77dbb0fd315bed6",
       "version_major": 2,
       "version_minor": 0
      },
      "text/plain": [
       "VBox(children=(HBox(children=(Dropdown(layout=Layout(width='100%px'), options=('GET', 'POST', 'PUT', 'PATCH', …"
      ]
     },
     "metadata": {},
     "output_type": "display_data"
    }
   ],
   "source": [
    "import requests\n",
    "from ipyrest import Api\n",
    "\n",
    "url = requests.get('https://xkcd.com/552/info.0.json').json()['img']\n",
    "Api(url).ui"
   ]
  },
  {
   "cell_type": "code",
   "execution_count": 3,
   "metadata": {},
   "outputs": [
    {
     "data": {
      "application/vnd.jupyter.widget-view+json": {
       "model_id": "fed702a9367c43dc820b4a843d87fd35",
       "version_major": 2,
       "version_minor": 0
      },
      "text/plain": [
       "VBox(children=(HBox(children=(Dropdown(layout=Layout(width='100%px'), options=('GET', 'POST', 'PUT', 'PATCH', …"
      ]
     },
     "metadata": {},
     "output_type": "display_data"
    }
   ],
   "source": [
    "import requests\n",
    "from ipywidgets import Image\n",
    "from ipyrest import Api, ResponseView, builtin_view_classes\n",
    "\n",
    "class XKCDView(ResponseView):\n",
    "    \"Api rendering view for XKCD comics taken from XKCD JSON API.\"\n",
    "    name = 'XKCD'\n",
    "    mimetype_pats = ['application/json']\n",
    "    def render(self, resp):\n",
    "        return Image(value=requests.get(resp.json()['img']).content)\n",
    "\n",
    "url = 'https://xkcd.com/552/info.0.json'\n",
    "Api(url, views=builtin_view_classes + [XKCDView]).ui"
   ]
  },
  {
   "cell_type": "markdown",
   "metadata": {},
   "source": [
    "### Latest Comic"
   ]
  },
  {
   "cell_type": "code",
   "execution_count": 4,
   "metadata": {},
   "outputs": [
    {
     "data": {
      "application/vnd.jupyter.widget-view+json": {
       "model_id": "9d3e6a02f2a94377846097e6011b375d",
       "version_major": 2,
       "version_minor": 0
      },
      "text/plain": [
       "VBox(children=(HBox(children=(Dropdown(layout=Layout(width='100%px'), options=('GET', 'POST', 'PUT', 'PATCH', …"
      ]
     },
     "metadata": {},
     "output_type": "display_data"
    }
   ],
   "source": [
    "url = 'https://xkcd.com/info.0.json'\n",
    "Api(url, views=builtin_view_classes + [XKCDView]).ui"
   ]
  },
  {
   "cell_type": "markdown",
   "metadata": {},
   "source": [
    "Compare with [xkcd.com](https://xkcd.com)..."
   ]
  }
 ],
 "metadata": {
  "kernelspec": {
   "display_name": "Python 3",
   "language": "python",
   "name": "python3"
  },
  "language_info": {
   "codemirror_mode": {
    "name": "ipython",
    "version": 3
   },
   "file_extension": ".py",
   "mimetype": "text/x-python",
   "name": "python",
   "nbconvert_exporter": "python",
   "pygments_lexer": "ipython3",
   "version": "3.6.3"
  },
  "toc": {
   "nav_menu": {},
   "number_sections": false,
   "sideBar": true,
   "skip_h1_title": true,
   "title_cell": "Table of Contents",
   "title_sidebar": "Contents",
   "toc_cell": false,
   "toc_position": {},
   "toc_section_display": true,
   "toc_window_display": true
  }
 },
 "nbformat": 4,
 "nbformat_minor": 2
}
